{
 "cells": [
  {
   "cell_type": "code",
   "execution_count": 36,
   "id": "d25614ff",
   "metadata": {
    "scrolled": true
   },
   "outputs": [
    {
     "name": "stdout",
     "output_type": "stream",
     "text": [
      "arroz\n"
     ]
    }
   ],
   "source": [
    "### LIBRERIAS\n",
    "from selenium import webdriver\n",
    "from selenium.webdriver.support.ui import WebDriverWait\n",
    "from selenium.webdriver.support import expected_conditions as EC\n",
    "from selenium.webdriver.common.by import By\n",
    "from selenium.webdriver.support.ui import Select\n",
    "import time\n",
    "import pandas as pd\n",
    "\n",
    "### PRODUCTO A BUSCAR\n",
    "producto = input(\"\")\n",
    "\n"
   ]
  },
  {
   "cell_type": "code",
   "execution_count": 41,
   "id": "c24a2747",
   "metadata": {},
   "outputs": [
    {
     "ename": "TimeoutException",
     "evalue": "Message: \nStacktrace:\nBacktrace:\n\tOrdinal0 [0x00A55FD3+2187219]\n\tOrdinal0 [0x009EE6D1+1763025]\n\tOrdinal0 [0x00903E78+802424]\n\tOrdinal0 [0x00931C10+990224]\n\tOrdinal0 [0x00931EAB+990891]\n\tOrdinal0 [0x0095EC92+1174674]\n\tOrdinal0 [0x0094CBD4+1100756]\n\tOrdinal0 [0x0095CFC2+1167298]\n\tOrdinal0 [0x0094C9A6+1100198]\n\tOrdinal0 [0x00926F80+946048]\n\tOrdinal0 [0x00927E76+949878]\n\tGetHandleVerifier [0x00CF90C2+2721218]\n\tGetHandleVerifier [0x00CEAAF0+2662384]\n\tGetHandleVerifier [0x00AE137A+526458]\n\tGetHandleVerifier [0x00AE0416+522518]\n\tOrdinal0 [0x009F4EAB+1789611]\n\tOrdinal0 [0x009F97A8+1808296]\n\tOrdinal0 [0x009F9895+1808533]\n\tOrdinal0 [0x00A026C1+1844929]\n\tBaseThreadInitThunk [0x7707FA29+25]\n\tRtlGetAppContainerNamedObjectPath [0x77257A9E+286]\n\tRtlGetAppContainerNamedObjectPath [0x77257A6E+238]\n",
     "output_type": "error",
     "traceback": [
      "\u001b[1;31m---------------------------------------------------------------------------\u001b[0m",
      "\u001b[1;31mTimeoutException\u001b[0m                          Traceback (most recent call last)",
      "Input \u001b[1;32mIn [41]\u001b[0m, in \u001b[0;36m<cell line: 16>\u001b[1;34m()\u001b[0m\n\u001b[0;32m     13\u001b[0m \u001b[38;5;66;03m# Inicializamos el navegador\u001b[39;00m\n\u001b[0;32m     14\u001b[0m driver\u001b[38;5;241m.\u001b[39mget(\u001b[38;5;124m\"\u001b[39m\u001b[38;5;124mhttps://www.metro.pe/\u001b[39m\u001b[38;5;124m\"\u001b[39m)\n\u001b[1;32m---> 16\u001b[0m \u001b[43mWebDriverWait\u001b[49m\u001b[43m(\u001b[49m\u001b[43mdriver\u001b[49m\u001b[43m,\u001b[49m\u001b[43m \u001b[49m\u001b[38;5;241;43m20\u001b[39;49m\u001b[43m)\u001b[49m\u001b[43m\\\u001b[49m\n\u001b[0;32m     17\u001b[0m \u001b[43m    \u001b[49m\u001b[38;5;241;43m.\u001b[39;49m\u001b[43muntil\u001b[49m\u001b[43m(\u001b[49m\u001b[43mEC\u001b[49m\u001b[38;5;241;43m.\u001b[39;49m\u001b[43melement_to_be_clickable\u001b[49m\u001b[43m(\u001b[49m\u001b[43m(\u001b[49m\u001b[43mBy\u001b[49m\u001b[38;5;241;43m.\u001b[39;49m\u001b[43mXPATH\u001b[49m\u001b[43m,\u001b[49m\u001b[38;5;124;43m\"\u001b[39;49m\u001b[38;5;124;43m//button[@class=\u001b[39;49m\u001b[38;5;124;43m'\u001b[39;49m\u001b[38;5;124;43malign-right secondary slidedown-button\u001b[39;49m\u001b[38;5;124;43m'\u001b[39;49m\u001b[38;5;124;43m]\u001b[39;49m\u001b[38;5;124;43m\"\u001b[39;49m\u001b[43m)\u001b[49m\u001b[43m)\u001b[49m\u001b[43m)\u001b[49m\\\n\u001b[0;32m     18\u001b[0m     \u001b[38;5;241m.\u001b[39mclick()\n\u001b[0;32m     20\u001b[0m WebDriverWait(driver, \u001b[38;5;241m15\u001b[39m)\\\n\u001b[0;32m     21\u001b[0m     \u001b[38;5;241m.\u001b[39muntil(EC\u001b[38;5;241m.\u001b[39melement_to_be_clickable((By\u001b[38;5;241m.\u001b[39mXPATH,\u001b[38;5;124m\"\u001b[39m\u001b[38;5;124m//button[@class=\u001b[39m\u001b[38;5;124m'\u001b[39m\u001b[38;5;124mswal2-confirm swal2-styled\u001b[39m\u001b[38;5;124m'\u001b[39m\u001b[38;5;124m]\u001b[39m\u001b[38;5;124m\"\u001b[39m)))\\\n\u001b[0;32m     22\u001b[0m     \u001b[38;5;241m.\u001b[39mclick()\n\u001b[0;32m     24\u001b[0m WebDriverWait(driver, \u001b[38;5;241m5\u001b[39m)\\\n\u001b[0;32m     25\u001b[0m     \u001b[38;5;241m.\u001b[39muntil(EC\u001b[38;5;241m.\u001b[39melement_to_be_clickable((By\u001b[38;5;241m.\u001b[39mXPATH,\u001b[38;5;124m\"\u001b[39m\u001b[38;5;124m//input[@id=\u001b[39m\u001b[38;5;124m'\u001b[39m\u001b[38;5;124msearch-autocomplete-input\u001b[39m\u001b[38;5;124m'\u001b[39m\u001b[38;5;124m]\u001b[39m\u001b[38;5;124m\"\u001b[39m)))\\\n\u001b[0;32m     26\u001b[0m     \u001b[38;5;241m.\u001b[39msend_keys(producto)\n",
      "File \u001b[1;32m~\\anaconda3\\lib\\site-packages\\selenium\\webdriver\\support\\wait.py:90\u001b[0m, in \u001b[0;36mWebDriverWait.until\u001b[1;34m(self, method, message)\u001b[0m\n\u001b[0;32m     88\u001b[0m     \u001b[38;5;28;01mif\u001b[39;00m time\u001b[38;5;241m.\u001b[39mmonotonic() \u001b[38;5;241m>\u001b[39m end_time:\n\u001b[0;32m     89\u001b[0m         \u001b[38;5;28;01mbreak\u001b[39;00m\n\u001b[1;32m---> 90\u001b[0m \u001b[38;5;28;01mraise\u001b[39;00m TimeoutException(message, screen, stacktrace)\n",
      "\u001b[1;31mTimeoutException\u001b[0m: Message: \nStacktrace:\nBacktrace:\n\tOrdinal0 [0x00A55FD3+2187219]\n\tOrdinal0 [0x009EE6D1+1763025]\n\tOrdinal0 [0x00903E78+802424]\n\tOrdinal0 [0x00931C10+990224]\n\tOrdinal0 [0x00931EAB+990891]\n\tOrdinal0 [0x0095EC92+1174674]\n\tOrdinal0 [0x0094CBD4+1100756]\n\tOrdinal0 [0x0095CFC2+1167298]\n\tOrdinal0 [0x0094C9A6+1100198]\n\tOrdinal0 [0x00926F80+946048]\n\tOrdinal0 [0x00927E76+949878]\n\tGetHandleVerifier [0x00CF90C2+2721218]\n\tGetHandleVerifier [0x00CEAAF0+2662384]\n\tGetHandleVerifier [0x00AE137A+526458]\n\tGetHandleVerifier [0x00AE0416+522518]\n\tOrdinal0 [0x009F4EAB+1789611]\n\tOrdinal0 [0x009F97A8+1808296]\n\tOrdinal0 [0x009F9895+1808533]\n\tOrdinal0 [0x00A026C1+1844929]\n\tBaseThreadInitThunk [0x7707FA29+25]\n\tRtlGetAppContainerNamedObjectPath [0x77257A9E+286]\n\tRtlGetAppContainerNamedObjectPath [0x77257A6E+238]\n"
     ]
    }
   ],
   "source": [
    "### METRO\n",
    "# Opciones de navegación\n",
    "options =  webdriver.ChromeOptions()\n",
    "options.add_argument('--start-maximized')\n",
    "options.add_argument('--disable-extensions')\n",
    "driver = webdriver.Chrome(options=options)\n",
    "\n",
    "# Iniciarla en la pantalla 2\n",
    "#driver.set_window_position(2000, 0)\n",
    "driver.maximize_window()\n",
    "time.sleep(1)\n",
    "\n",
    "# Inicializamos el navegador\n",
    "driver.get(\"https://www.metro.pe/\")\n",
    "\n",
    "WebDriverWait(driver, 20)\\\n",
    "    .until(EC.element_to_be_clickable((By.XPATH,\"//button[@class='align-right secondary slidedown-button']\")))\\\n",
    "    .click()\n",
    "\n",
    "WebDriverWait(driver, 15)\\\n",
    "    .until(EC.element_to_be_clickable((By.XPATH,\"//button[@class='swal2-confirm swal2-styled']\")))\\\n",
    "    .click()\n",
    "\n",
    "WebDriverWait(driver, 5)\\\n",
    "    .until(EC.element_to_be_clickable((By.XPATH,\"//input[@id='search-autocomplete-input']\")))\\\n",
    "    .send_keys(producto)\n",
    "\n",
    "WebDriverWait(driver, 15)\\\n",
    "    .until(EC.element_to_be_clickable((By.XPATH,\"//a[@class='see-all']\")))\\\n",
    "    .click()\n",
    "\n",
    "driver.execute_script(\"window.scrollBy(0, document.body.scrollHeight);\")\n",
    "\n",
    "time.sleep(15)\n",
    "\n",
    "tarifas = driver.find_elements(By.XPATH,\"//div[@class='product-item__bottom']\")\n",
    "precios = []\n",
    "for tarifa in tarifas:\n",
    "    nombre = tarifa.find_element(By.XPATH,\".//a[@class='product-item__name']\").text\n",
    "    #marca = tarifa.find_element(By.XPATH,\".//div[@class='product-item__brand']\").text\n",
    "    precio = tarifa.find_element(By.XPATH,\".//span[@class='product-prices__value product-prices__value--best-price']\").text\n",
    "    dict_tarifa={nombre:{'precio':precio}}\n",
    "    precios.append(dict_tarifa)\n",
    "    print(dict_tarifa)\n"
   ]
  },
  {
   "cell_type": "code",
   "execution_count": 38,
   "id": "6e9ae88d",
   "metadata": {},
   "outputs": [
    {
     "ename": "NoSuchWindowException",
     "evalue": "Message: no such window: target window already closed\nfrom unknown error: web view not found\n  (Session info: chrome=103.0.5060.134)\nStacktrace:\nBacktrace:\n\tOrdinal0 [0x00A55FD3+2187219]\n\tOrdinal0 [0x009EE6D1+1763025]\n\tOrdinal0 [0x00903E78+802424]\n\tOrdinal0 [0x008EC680+706176]\n\tOrdinal0 [0x0094F519+1111321]\n\tOrdinal0 [0x0095C762+1165154]\n\tOrdinal0 [0x0094C9A6+1100198]\n\tOrdinal0 [0x00926F80+946048]\n\tOrdinal0 [0x00927E76+949878]\n\tGetHandleVerifier [0x00CF90C2+2721218]\n\tGetHandleVerifier [0x00CEAAF0+2662384]\n\tGetHandleVerifier [0x00AE137A+526458]\n\tGetHandleVerifier [0x00AE0416+522518]\n\tOrdinal0 [0x009F4EAB+1789611]\n\tOrdinal0 [0x009F97A8+1808296]\n\tOrdinal0 [0x009F9895+1808533]\n\tOrdinal0 [0x00A026C1+1844929]\n\tBaseThreadInitThunk [0x7707FA29+25]\n\tRtlGetAppContainerNamedObjectPath [0x77257A9E+286]\n\tRtlGetAppContainerNamedObjectPath [0x77257A6E+238]\n",
     "output_type": "error",
     "traceback": [
      "\u001b[1;31m---------------------------------------------------------------------------\u001b[0m",
      "\u001b[1;31mNoSuchWindowException\u001b[0m                     Traceback (most recent call last)",
      "Input \u001b[1;32mIn [38]\u001b[0m, in \u001b[0;36m<cell line: 15>\u001b[1;34m()\u001b[0m\n\u001b[0;32m     10\u001b[0m time\u001b[38;5;241m.\u001b[39msleep(\u001b[38;5;241m1\u001b[39m)\n\u001b[0;32m     11\u001b[0m driver\u001b[38;5;241m.\u001b[39mget(\u001b[38;5;124m\"\u001b[39m\u001b[38;5;124mhttps://www.tottus.com.pe/\u001b[39m\u001b[38;5;124m\"\u001b[39m)\n\u001b[1;32m---> 15\u001b[0m \u001b[43mWebDriverWait\u001b[49m\u001b[43m(\u001b[49m\u001b[43mdriver\u001b[49m\u001b[43m,\u001b[49m\u001b[43m \u001b[49m\u001b[38;5;241;43m30\u001b[39;49m\u001b[43m)\u001b[49m\u001b[43m\\\u001b[49m\n\u001b[0;32m     16\u001b[0m \u001b[43m    \u001b[49m\u001b[38;5;241;43m.\u001b[39;49m\u001b[43muntil\u001b[49m\u001b[43m(\u001b[49m\u001b[43mEC\u001b[49m\u001b[38;5;241;43m.\u001b[39;49m\u001b[43melement_to_be_clickable\u001b[49m\u001b[43m(\u001b[49m\u001b[43m(\u001b[49m\u001b[43mBy\u001b[49m\u001b[38;5;241;43m.\u001b[39;49m\u001b[43mXPATH\u001b[49m\u001b[43m,\u001b[49m\u001b[38;5;124;43m\"\u001b[39;49m\u001b[38;5;124;43m//button[@class=\u001b[39;49m\u001b[38;5;124;43m'\u001b[39;49m\u001b[38;5;124;43malign-right secondary slidedown-button\u001b[39;49m\u001b[38;5;124;43m'\u001b[39;49m\u001b[38;5;124;43m]\u001b[39;49m\u001b[38;5;124;43m\"\u001b[39;49m\u001b[43m)\u001b[49m\u001b[43m)\u001b[49m\u001b[43m)\u001b[49m\\\n\u001b[0;32m     17\u001b[0m     \u001b[38;5;241m.\u001b[39mclick()\n\u001b[0;32m     19\u001b[0m WebDriverWait(driver, \u001b[38;5;241m30\u001b[39m)\\\n\u001b[0;32m     20\u001b[0m     \u001b[38;5;241m.\u001b[39muntil(EC\u001b[38;5;241m.\u001b[39melement_to_be_clickable((By\u001b[38;5;241m.\u001b[39mXPATH,\u001b[38;5;124m\"\u001b[39m\u001b[38;5;124m//input[@id=\u001b[39m\u001b[38;5;124m'\u001b[39m\u001b[38;5;124mcatalystSearchBar\u001b[39m\u001b[38;5;124m'\u001b[39m\u001b[38;5;124m]\u001b[39m\u001b[38;5;124m\"\u001b[39m)))\\\n\u001b[0;32m     21\u001b[0m     \u001b[38;5;241m.\u001b[39msend_keys(\u001b[38;5;124m\"\u001b[39m\u001b[38;5;124mlacteos\u001b[39m\u001b[38;5;124m\"\u001b[39m)\n",
      "File \u001b[1;32m~\\anaconda3\\lib\\site-packages\\selenium\\webdriver\\support\\wait.py:81\u001b[0m, in \u001b[0;36mWebDriverWait.until\u001b[1;34m(self, method, message)\u001b[0m\n\u001b[0;32m     79\u001b[0m \u001b[38;5;28;01mwhile\u001b[39;00m \u001b[38;5;28;01mTrue\u001b[39;00m:\n\u001b[0;32m     80\u001b[0m     \u001b[38;5;28;01mtry\u001b[39;00m:\n\u001b[1;32m---> 81\u001b[0m         value \u001b[38;5;241m=\u001b[39m \u001b[43mmethod\u001b[49m\u001b[43m(\u001b[49m\u001b[38;5;28;43mself\u001b[39;49m\u001b[38;5;241;43m.\u001b[39;49m\u001b[43m_driver\u001b[49m\u001b[43m)\u001b[49m\n\u001b[0;32m     82\u001b[0m         \u001b[38;5;28;01mif\u001b[39;00m value:\n\u001b[0;32m     83\u001b[0m             \u001b[38;5;28;01mreturn\u001b[39;00m value\n",
      "File \u001b[1;32m~\\anaconda3\\lib\\site-packages\\selenium\\webdriver\\support\\expected_conditions.py:312\u001b[0m, in \u001b[0;36melement_to_be_clickable.<locals>._predicate\u001b[1;34m(driver)\u001b[0m\n\u001b[0;32m    310\u001b[0m target \u001b[38;5;241m=\u001b[39m mark\n\u001b[0;32m    311\u001b[0m \u001b[38;5;28;01mif\u001b[39;00m \u001b[38;5;129;01mnot\u001b[39;00m \u001b[38;5;28misinstance\u001b[39m(target, WebElement):  \u001b[38;5;66;03m# if given locator instead of WebElement\u001b[39;00m\n\u001b[1;32m--> 312\u001b[0m     target \u001b[38;5;241m=\u001b[39m \u001b[43mdriver\u001b[49m\u001b[38;5;241;43m.\u001b[39;49m\u001b[43mfind_element\u001b[49m\u001b[43m(\u001b[49m\u001b[38;5;241;43m*\u001b[39;49m\u001b[43mtarget\u001b[49m\u001b[43m)\u001b[49m  \u001b[38;5;66;03m# grab element at locator\u001b[39;00m\n\u001b[0;32m    313\u001b[0m target \u001b[38;5;241m=\u001b[39m visibility_of(target)(driver)\n\u001b[0;32m    314\u001b[0m \u001b[38;5;28;01mif\u001b[39;00m target \u001b[38;5;129;01mand\u001b[39;00m target\u001b[38;5;241m.\u001b[39mis_enabled():\n",
      "File \u001b[1;32m~\\anaconda3\\lib\\site-packages\\selenium\\webdriver\\remote\\webdriver.py:857\u001b[0m, in \u001b[0;36mWebDriver.find_element\u001b[1;34m(self, by, value)\u001b[0m\n\u001b[0;32m    854\u001b[0m     by \u001b[38;5;241m=\u001b[39m By\u001b[38;5;241m.\u001b[39mCSS_SELECTOR\n\u001b[0;32m    855\u001b[0m     value \u001b[38;5;241m=\u001b[39m \u001b[38;5;124m'\u001b[39m\u001b[38;5;124m[name=\u001b[39m\u001b[38;5;124m\"\u001b[39m\u001b[38;5;132;01m%s\u001b[39;00m\u001b[38;5;124m\"\u001b[39m\u001b[38;5;124m]\u001b[39m\u001b[38;5;124m'\u001b[39m \u001b[38;5;241m%\u001b[39m value\n\u001b[1;32m--> 857\u001b[0m \u001b[38;5;28;01mreturn\u001b[39;00m \u001b[38;5;28;43mself\u001b[39;49m\u001b[38;5;241;43m.\u001b[39;49m\u001b[43mexecute\u001b[49m\u001b[43m(\u001b[49m\u001b[43mCommand\u001b[49m\u001b[38;5;241;43m.\u001b[39;49m\u001b[43mFIND_ELEMENT\u001b[49m\u001b[43m,\u001b[49m\u001b[43m \u001b[49m\u001b[43m{\u001b[49m\n\u001b[0;32m    858\u001b[0m \u001b[43m    \u001b[49m\u001b[38;5;124;43m'\u001b[39;49m\u001b[38;5;124;43musing\u001b[39;49m\u001b[38;5;124;43m'\u001b[39;49m\u001b[43m:\u001b[49m\u001b[43m \u001b[49m\u001b[43mby\u001b[49m\u001b[43m,\u001b[49m\n\u001b[0;32m    859\u001b[0m \u001b[43m    \u001b[49m\u001b[38;5;124;43m'\u001b[39;49m\u001b[38;5;124;43mvalue\u001b[39;49m\u001b[38;5;124;43m'\u001b[39;49m\u001b[43m:\u001b[49m\u001b[43m \u001b[49m\u001b[43mvalue\u001b[49m\u001b[43m}\u001b[49m\u001b[43m)\u001b[49m[\u001b[38;5;124m'\u001b[39m\u001b[38;5;124mvalue\u001b[39m\u001b[38;5;124m'\u001b[39m]\n",
      "File \u001b[1;32m~\\anaconda3\\lib\\site-packages\\selenium\\webdriver\\remote\\webdriver.py:435\u001b[0m, in \u001b[0;36mWebDriver.execute\u001b[1;34m(self, driver_command, params)\u001b[0m\n\u001b[0;32m    433\u001b[0m response \u001b[38;5;241m=\u001b[39m \u001b[38;5;28mself\u001b[39m\u001b[38;5;241m.\u001b[39mcommand_executor\u001b[38;5;241m.\u001b[39mexecute(driver_command, params)\n\u001b[0;32m    434\u001b[0m \u001b[38;5;28;01mif\u001b[39;00m response:\n\u001b[1;32m--> 435\u001b[0m     \u001b[38;5;28;43mself\u001b[39;49m\u001b[38;5;241;43m.\u001b[39;49m\u001b[43merror_handler\u001b[49m\u001b[38;5;241;43m.\u001b[39;49m\u001b[43mcheck_response\u001b[49m\u001b[43m(\u001b[49m\u001b[43mresponse\u001b[49m\u001b[43m)\u001b[49m\n\u001b[0;32m    436\u001b[0m     response[\u001b[38;5;124m'\u001b[39m\u001b[38;5;124mvalue\u001b[39m\u001b[38;5;124m'\u001b[39m] \u001b[38;5;241m=\u001b[39m \u001b[38;5;28mself\u001b[39m\u001b[38;5;241m.\u001b[39m_unwrap_value(\n\u001b[0;32m    437\u001b[0m         response\u001b[38;5;241m.\u001b[39mget(\u001b[38;5;124m'\u001b[39m\u001b[38;5;124mvalue\u001b[39m\u001b[38;5;124m'\u001b[39m, \u001b[38;5;28;01mNone\u001b[39;00m))\n\u001b[0;32m    438\u001b[0m     \u001b[38;5;28;01mreturn\u001b[39;00m response\n",
      "File \u001b[1;32m~\\anaconda3\\lib\\site-packages\\selenium\\webdriver\\remote\\errorhandler.py:247\u001b[0m, in \u001b[0;36mErrorHandler.check_response\u001b[1;34m(self, response)\u001b[0m\n\u001b[0;32m    245\u001b[0m         alert_text \u001b[38;5;241m=\u001b[39m value[\u001b[38;5;124m'\u001b[39m\u001b[38;5;124malert\u001b[39m\u001b[38;5;124m'\u001b[39m]\u001b[38;5;241m.\u001b[39mget(\u001b[38;5;124m'\u001b[39m\u001b[38;5;124mtext\u001b[39m\u001b[38;5;124m'\u001b[39m)\n\u001b[0;32m    246\u001b[0m     \u001b[38;5;28;01mraise\u001b[39;00m exception_class(message, screen, stacktrace, alert_text)  \u001b[38;5;66;03m# type: ignore[call-arg]  # mypy is not smart enough here\u001b[39;00m\n\u001b[1;32m--> 247\u001b[0m \u001b[38;5;28;01mraise\u001b[39;00m exception_class(message, screen, stacktrace)\n",
      "\u001b[1;31mNoSuchWindowException\u001b[0m: Message: no such window: target window already closed\nfrom unknown error: web view not found\n  (Session info: chrome=103.0.5060.134)\nStacktrace:\nBacktrace:\n\tOrdinal0 [0x00A55FD3+2187219]\n\tOrdinal0 [0x009EE6D1+1763025]\n\tOrdinal0 [0x00903E78+802424]\n\tOrdinal0 [0x008EC680+706176]\n\tOrdinal0 [0x0094F519+1111321]\n\tOrdinal0 [0x0095C762+1165154]\n\tOrdinal0 [0x0094C9A6+1100198]\n\tOrdinal0 [0x00926F80+946048]\n\tOrdinal0 [0x00927E76+949878]\n\tGetHandleVerifier [0x00CF90C2+2721218]\n\tGetHandleVerifier [0x00CEAAF0+2662384]\n\tGetHandleVerifier [0x00AE137A+526458]\n\tGetHandleVerifier [0x00AE0416+522518]\n\tOrdinal0 [0x009F4EAB+1789611]\n\tOrdinal0 [0x009F97A8+1808296]\n\tOrdinal0 [0x009F9895+1808533]\n\tOrdinal0 [0x00A026C1+1844929]\n\tBaseThreadInitThunk [0x7707FA29+25]\n\tRtlGetAppContainerNamedObjectPath [0x77257A9E+286]\n\tRtlGetAppContainerNamedObjectPath [0x77257A6E+238]\n"
     ]
    }
   ],
   "source": [
    "### TOTTUS\n",
    "# Opciones de navegación\n",
    "options =  webdriver.ChromeOptions()\n",
    "options.add_argument('--start-maximized')\n",
    "options.add_argument('--disable-extensions')\n",
    "\n",
    "# Iniciarla en la pantalla 2\n",
    "#driver.set_window_position(2000, 0)\n",
    "driver = webdriver.Chrome(options=options)\n",
    "time.sleep(1)\n",
    "driver.get(\"https://www.tottus.com.pe/\")\n",
    "\n",
    "\n",
    "\n",
    "WebDriverWait(driver, 30)\\\n",
    "    .until(EC.element_to_be_clickable((By.XPATH,\"//button[@class='align-right secondary slidedown-button']\")))\\\n",
    "    .click()\n",
    "\n",
    "WebDriverWait(driver, 30)\\\n",
    "    .until(EC.element_to_be_clickable((By.XPATH,\"//input[@id='catalystSearchBar']\")))\\\n",
    "    .send_keys(\"lacteos\")\n"
   ]
  },
  {
   "cell_type": "code",
   "execution_count": 35,
   "id": "3c1104b9",
   "metadata": {},
   "outputs": [],
   "source": [
    "### PLAZA VEA\n",
    "options =  webdriver.ChromeOptions()\n",
    "options.add_argument('--start-maximized')\n",
    "options.add_argument('--disable-extensions')\n",
    "driver = webdriver.Chrome(options=options)\n",
    "time.sleep(1)\n",
    "driver.get(\"https://www.plazavea.com.pe/\")\n",
    "WebDriverWait(driver, 20)\\\n",
    "    .until(EC.element_to_be_clickable((By.XPATH,\"//button[@class='align-right secondary slidedown-button']\")))\\\n",
    "    .click()\n",
    "WebDriverWait(driver, 10)\\\n",
    "    .until(EC.element_to_be_clickable((By.XPATH,\"//input[@id='search_box']\")))\\\n",
    "    .send_keys(producto)\n",
    "WebDriverWait(driver, 15)\\\n",
    "    .until(EC.element_to_be_clickable((By.XPATH,\"//a[@class='SuggestionList__searchLink__link']\")))\\\n",
    "    .click()\n",
    "\n",
    "driver.execute_script(\"window.scrollBy(0, document.body.scrollHeight);\")\n",
    "\n",
    "time.sleep(15)\n",
    "\n",
    "tarifas = driver.find_elements(By.XPATH,\"//div[@class='product-item__bottom']\")\n",
    "precios = []\n",
    "for tarifa in tarifas:\n",
    "    nombre = tarifa.find_element(By.XPATH,\".//a[@class='product-item__name']\").text\n",
    "    marca = tarifa.find_element(By.XPATH,\".//div[@class='product-item__brand']\").text\n",
    "    precio = tarifa.find_element(By.XPATH,\".//span[@class='product-prices__value product-prices__value--best-price']\").text\n",
    "    dict_tarifa={nombre:{'marca':marca, 'precio':precio}}\n",
    "    precios.append(dict_tarifa)\n",
    "    print(dict_tarifa)\n",
    "\n"
   ]
  },
  {
   "cell_type": "code",
   "execution_count": null,
   "id": "e17970e4",
   "metadata": {},
   "outputs": [],
   "source": []
  }
 ],
 "metadata": {
  "kernelspec": {
   "display_name": "Python 3 (ipykernel)",
   "language": "python",
   "name": "python3"
  },
  "language_info": {
   "codemirror_mode": {
    "name": "ipython",
    "version": 3
   },
   "file_extension": ".py",
   "mimetype": "text/x-python",
   "name": "python",
   "nbconvert_exporter": "python",
   "pygments_lexer": "ipython3",
   "version": "3.9.12"
  }
 },
 "nbformat": 4,
 "nbformat_minor": 5
}
