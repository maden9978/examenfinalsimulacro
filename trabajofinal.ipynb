{
 "cells": [
  {
   "cell_type": "code",
   "execution_count": 13,
   "id": "d25614ff",
   "metadata": {},
   "outputs": [
    {
     "ename": "AttributeError",
     "evalue": "'list' object has no attribute 'text'",
     "output_type": "error",
     "traceback": [
      "\u001b[1;31m---------------------------------------------------------------------------\u001b[0m",
      "\u001b[1;31mAttributeError\u001b[0m                            Traceback (most recent call last)",
      "Input \u001b[1;32mIn [13]\u001b[0m, in \u001b[0;36m<cell line: 56>\u001b[1;34m()\u001b[0m\n\u001b[0;32m     53\u001b[0m         \u001b[38;5;66;03m#print(dict_tarifa)\u001b[39;00m\n\u001b[0;32m     54\u001b[0m     \u001b[38;5;28;01mreturn\u001b[39;00m precios\n\u001b[1;32m---> 56\u001b[0m \u001b[43mobtener_precios\u001b[49m\u001b[43m(\u001b[49m\u001b[43mdriver\u001b[49m\u001b[43m)\u001b[49m\n",
      "Input \u001b[1;32mIn [13]\u001b[0m, in \u001b[0;36mobtener_precios\u001b[1;34m(driver)\u001b[0m\n\u001b[0;32m     46\u001b[0m precios \u001b[38;5;241m=\u001b[39m []\n\u001b[0;32m     47\u001b[0m \u001b[38;5;28;01mfor\u001b[39;00m dato \u001b[38;5;129;01min\u001b[39;00m datos:\n\u001b[1;32m---> 48\u001b[0m     nombre \u001b[38;5;241m=\u001b[39m \u001b[43mdriver\u001b[49m\u001b[38;5;241;43m.\u001b[39;49m\u001b[43mfind_elements\u001b[49m\u001b[43m(\u001b[49m\u001b[43mBy\u001b[49m\u001b[38;5;241;43m.\u001b[39;49m\u001b[43mXPATH\u001b[49m\u001b[43m,\u001b[49m\u001b[38;5;124;43m\"\u001b[39;49m\u001b[38;5;124;43m//a[@class=\u001b[39;49m\u001b[38;5;124;43m'\u001b[39;49m\u001b[38;5;124;43mproduct-item__name\u001b[39;49m\u001b[38;5;124;43m'\u001b[39;49m\u001b[38;5;124;43m]\u001b[39;49m\u001b[38;5;124;43m\"\u001b[39;49m\u001b[43m)\u001b[49m\u001b[38;5;241;43m.\u001b[39;49m\u001b[43mtext\u001b[49m\n\u001b[0;32m     49\u001b[0m     marca \u001b[38;5;241m=\u001b[39m driver\u001b[38;5;241m.\u001b[39mfind_elements(By\u001b[38;5;241m.\u001b[39mXPATH,\u001b[38;5;124m\"\u001b[39m\u001b[38;5;124m//div[@class=\u001b[39m\u001b[38;5;124m'\u001b[39m\u001b[38;5;124mproduct-item__brand\u001b[39m\u001b[38;5;124m'\u001b[39m\u001b[38;5;124m]\u001b[39m\u001b[38;5;124m\"\u001b[39m)\n\u001b[0;32m     50\u001b[0m     precio \u001b[38;5;241m=\u001b[39m driver\u001b[38;5;241m.\u001b[39mfind_elements(By\u001b[38;5;241m.\u001b[39mXPATH,\u001b[38;5;124m\"\u001b[39m\u001b[38;5;124m//span[@class=\u001b[39m\u001b[38;5;124m'\u001b[39m\u001b[38;5;124mproduct-prices__value product-prices__value--best-price\u001b[39m\u001b[38;5;124m'\u001b[39m\u001b[38;5;124m]\u001b[39m\u001b[38;5;124m\"\u001b[39m)\n",
      "\u001b[1;31mAttributeError\u001b[0m: 'list' object has no attribute 'text'"
     ]
    }
   ],
   "source": [
    "from selenium import webdriver\n",
    "from selenium.webdriver.support.ui import WebDriverWait\n",
    "from selenium.webdriver.support import expected_conditions as EC\n",
    "from selenium.webdriver.common.by import By\n",
    "import time\n",
    "import pandas as pd\n",
    "\n",
    "# Opciones de navegación\n",
    "options =  webdriver.ChromeOptions()\n",
    "options.add_argument('--start-maximized')\n",
    "options.add_argument('--disable-extensions')\n",
    "\n",
    "\n",
    "\n",
    "driver = webdriver.Chrome(options=options)\n",
    "\n",
    "# Iniciarla en la pantalla 2\n",
    "#driver.set_window_position(2000, 0)\n",
    "driver.maximize_window()\n",
    "time.sleep(1)\n",
    "\n",
    "# Inicializamos el navegador\n",
    "driver.get(\"https://www.metro.pe/\")\n",
    "\n",
    "WebDriverWait(driver, 20)\\\n",
    "    .until(EC.element_to_be_clickable((By.XPATH,\"//button[@class='align-right secondary slidedown-button']\")))\\\n",
    "    .click()\n",
    "\n",
    "WebDriverWait(driver, 15)\\\n",
    "    .until(EC.element_to_be_clickable((By.XPATH,\"//button[@class='swal2-confirm swal2-styled']\")))\\\n",
    "    .click()\n",
    "\n",
    "WebDriverWait(driver, 5)\\\n",
    "    .until(EC.element_to_be_clickable((By.XPATH,\"//input[@id='search-autocomplete-input']\")))\\\n",
    "    .send_keys('Leche')\n",
    "\n",
    "WebDriverWait(driver, 15)\\\n",
    "    .until(EC.element_to_be_clickable((By.XPATH,\"//a[@class='see-all']\")))\\\n",
    "    .click()\n",
    "\n",
    "\n",
    "nombre = driver.find_elements(By.XPATH,\"//a[@class='product-item__name']\")\n",
    "marca = driver.find_elements(By.XPATH,\"//div[@class='product-item__brand']\")\n",
    "precio = driver.find_elements(By.XPATH,\"//span[@class='product-prices__value product-prices__value--best-price']\")\n"
   ]
  },
  {
   "cell_type": "code",
   "execution_count": null,
   "id": "6e9ae88d",
   "metadata": {},
   "outputs": [],
   "source": []
  }
 ],
 "metadata": {
  "kernelspec": {
   "display_name": "Python 3 (ipykernel)",
   "language": "python",
   "name": "python3"
  },
  "language_info": {
   "codemirror_mode": {
    "name": "ipython",
    "version": 3
   },
   "file_extension": ".py",
   "mimetype": "text/x-python",
   "name": "python",
   "nbconvert_exporter": "python",
   "pygments_lexer": "ipython3",
   "version": "3.9.12"
  }
 },
 "nbformat": 4,
 "nbformat_minor": 5
}
